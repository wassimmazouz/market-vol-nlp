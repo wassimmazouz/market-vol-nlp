{
 "cells": [
  {
   "cell_type": "code",
   "execution_count": 1,
   "id": "784d8097",
   "metadata": {},
   "outputs": [
    {
     "name": "stdout",
     "output_type": "stream",
     "text": [
      "                                           Headlines  \\\n",
      "0  Jim Cramer: A better way to invest in the Covi...   \n",
      "1     Cramer's lightning round: I would own Teradyne   \n",
      "2                                                NaN   \n",
      "3  Cramer's week ahead: Big week for earnings, ev...   \n",
      "4  IQ Capital CEO Keith Bliss says tech and healt...   \n",
      "\n",
      "                             Time  \\\n",
      "0   7:51  PM ET Fri, 17 July 2020   \n",
      "1   7:33  PM ET Fri, 17 July 2020   \n",
      "2                             NaN   \n",
      "3   7:25  PM ET Fri, 17 July 2020   \n",
      "4   4:24  PM ET Fri, 17 July 2020   \n",
      "\n",
      "                                         Description  \n",
      "0  \"Mad Money\" host Jim Cramer recommended buying...  \n",
      "1  \"Mad Money\" host Jim Cramer rings the lightnin...  \n",
      "2                                                NaN  \n",
      "3  \"We'll pay more for the earnings of the non-Co...  \n",
      "4  Keith Bliss, IQ Capital CEO, joins \"Closing Be...  \n",
      "    neutral  \\\n",
      "0   neutral   \n",
      "1  negative   \n",
      "2  positive   \n",
      "3  positive   \n",
      "4  positive   \n",
      "\n",
      "  According to Gran , the company has no plans to move all production to Russia , although that is where the company is growing .  \n",
      "0  Technopolis plans to develop in stages an area...                                                                               \n",
      "1  The international electronic industry company ...                                                                               \n",
      "2  With the new production plant the company woul...                                                                               \n",
      "3  According to the company 's updated strategy f...                                                                               \n",
      "4  FINANCING OF ASPOCOMP 'S GROWTH Aspocomp is ag...                                                                               \n"
     ]
    }
   ],
   "source": [
    "import pandas as pd\n",
    "\n",
    "# Load News Headlines\n",
    "headlines = pd.read_csv(\"data/news_headlines/cnbc_headlines.csv\")\n",
    "print(headlines.head())\n",
    "\n",
    "# Load Sentiment Dataset\n",
    "sentiment_df = pd.read_csv(\"data/news_sentiment/all-data.csv\", encoding='ISO-8859-1')\n",
    "print(sentiment_df.head())"
   ]
  }
 ],
 "metadata": {
  "kernelspec": {
   "display_name": "base",
   "language": "python",
   "name": "python3"
  },
  "language_info": {
   "codemirror_mode": {
    "name": "ipython",
    "version": 3
   },
   "file_extension": ".py",
   "mimetype": "text/x-python",
   "name": "python",
   "nbconvert_exporter": "python",
   "pygments_lexer": "ipython3",
   "version": "3.10.14"
  }
 },
 "nbformat": 4,
 "nbformat_minor": 5
}
